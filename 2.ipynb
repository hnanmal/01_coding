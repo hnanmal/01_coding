{
 "metadata": {
  "language_info": {
   "codemirror_mode": {
    "name": "ipython",
    "version": 3
   },
   "file_extension": ".py",
   "mimetype": "text/x-python",
   "name": "python",
   "nbconvert_exporter": "python",
   "pygments_lexer": "ipython3",
   "version": "3.9.4"
  },
  "orig_nbformat": 2,
  "kernelspec": {
   "name": "python394jvsc74a57bd03d849cbbccfe9e1f5c04c4d6c16f7b443e471a947f6285ab2721d20bfe171b96",
   "display_name": "Python 3.9.4 64-bit"
  },
  "metadata": {
   "interpreter": {
    "hash": "50372e81e94e25530d76c09f098bf018f91a5c3734c4fb4b3566a9e0a76204da"
   }
  }
 },
 "nbformat": 4,
 "nbformat_minor": 2,
 "cells": [
  {
   "cell_type": "code",
   "execution_count": 9,
   "metadata": {},
   "outputs": [],
   "source": [
    "import inspect"
   ]
  },
  {
   "cell_type": "code",
   "execution_count": 10,
   "metadata": {},
   "outputs": [],
   "source": [
    "# 리스트에서 홀수를 length 만큼 뽑아서 제곱한 후 모두 더하기\n",
    "## 일반적 스타일\n",
    "\n",
    "def f0(list, length):\n",
    "    i = 0\n",
    "    acc = 0\n",
    "    for a in list:\n",
    "        if a % 2:\n",
    "            acc =  acc + a * a\n",
    "            i = i + 1\n",
    "            if i == length:\n",
    "                break\n",
    "    print(acc)\n"
   ]
  },
  {
   "cell_type": "code",
   "execution_count": 11,
   "metadata": {},
   "outputs": [
    {
     "output_type": "stream",
     "name": "stdout",
     "text": [
      "1\n10\n35\n"
     ]
    }
   ],
   "source": [
    "f0([1,2,3,4,5],1)\n",
    "f0([1,2,3,4,5],2)\n",
    "f0([1,2,3,4,5],3)"
   ]
  },
  {
   "cell_type": "code",
   "execution_count": 12,
   "metadata": {},
   "outputs": [],
   "source": [
    "# def filter(f, iter):\n",
    "#     for a in iter:\n",
    "#         if f(a): yield a\n",
    "\n",
    "# def map(f, iter):\n",
    "#     for a in iter:\n",
    "#         yield f(a)\n",
    "\n",
    "# def take(length, iter):\n",
    "#     res = []\n",
    "#     for a in iter:\n",
    "#         res.append(a)\n",
    "#         if len(res) == length: return res\n",
    "\n",
    "# def reduce(f, acc, iter):\n",
    "#     for a in iter:\n",
    "#         acc = f(acc, a)\n",
    "#     return acc\n",
    "\n",
    "# add = lambda a, b: a + b\n",
    "\n",
    "# def f(iter, length):\n",
    "#     return reduce(\n",
    "#         add,\n",
    "#         0,\n",
    "#         take(length, map(lambda a: a*a, filter(lambda a: a%2, iter))))"
   ]
  },
  {
   "cell_type": "code",
   "execution_count": 13,
   "metadata": {},
   "outputs": [],
   "source": [
    "# def filter(f, iter):\n",
    "#     for a in iter:\n",
    "#         if f(a): yield a\n",
    "\n",
    "# def map(f, iter):\n",
    "#     for a in iter:\n",
    "#         yield f(a)\n",
    "\n",
    "# def take(length, iter):\n",
    "#     res = []\n",
    "#     for a in iter:\n",
    "#         res.append(a)\n",
    "#         if len(res) == length: return res\n",
    "\n",
    "# def reduce(f, acc, iter):\n",
    "#     for a in iter:\n",
    "#         acc = f(acc, a)\n",
    "#     return acc\n",
    "\n",
    "# add = lambda a, b: a + b\n",
    "\n",
    "# f = lambda iter, length: reduce(add, 0,\n",
    "#         take(\n",
    "#             length, \n",
    "#                 map(lambda a: a*a, \n",
    "#                     filter(lambda a: a%2, iter))))"
   ]
  },
  {
   "cell_type": "code",
   "execution_count": 14,
   "metadata": {},
   "outputs": [],
   "source": [
    "# def filter(f, list):\n",
    "\n",
    "#     for a in list:\n",
    "#         if f(a): yield a\n",
    "\n",
    "# def map(f, list):\n",
    "#     for a in list:\n",
    "#         yield f(a)\n",
    "\n",
    "# def take(length, list):\n",
    "#     res = []\n",
    "#     for a in list:\n",
    "#         res.append(a)\n",
    "#         if len(res) == length: return res\n",
    "\n",
    "# def reduce(f, acc, list):\n",
    "#     for a in list:\n",
    "#         acc = f(acc, a)\n",
    "#     return acc\n",
    "\n",
    "# add = lambda a, b: a + b\n",
    "\n",
    "# fAbbr = lambda a, *args: reduce(lambda a, f: f(a), a, args)\n",
    "\n",
    "\n",
    "# f1 = lambda list, length: reduce(add, 0,\n",
    "#         take(\n",
    "#             length, \n",
    "#                 map(lambda a: a * a, \n",
    "#                     filter(lambda a: a % 2, list))))\n",
    "\n",
    "# f2 = lambda list, length: fAbbr(list,\n",
    "#     lambda list: filter(lambda a: a % 2, list),\n",
    "#     lambda list: map(lambda a: a * a, list),\n",
    "#     lambda list: take(length, list),\n",
    "#     lambda list: reduce(add, 0, list)\n",
    "# )"
   ]
  },
  {
   "cell_type": "code",
   "execution_count": 15,
   "metadata": {},
   "outputs": [],
   "source": [
    "# print(f1([1,2,3,4,5],1))\n",
    "# print(f1([1,2,3,4,5],2))\n",
    "# print(f1([1,2,3,4,5],3))\n",
    "\n",
    "# print(f2([1,2,3,4,5],1))\n",
    "# print(f2([1,2,3,4,5],2))\n",
    "# print(f2([1,2,3,4,5],3))"
   ]
  },
  {
   "cell_type": "code",
   "execution_count": 48,
   "metadata": {},
   "outputs": [],
   "source": [
    "curry = lambda f: lambda a, *args: f(a, *args) if len(args) == True else lambda *args: f(a, *args)\n",
    "\n",
    "def Filter(f, list):\n",
    "    for a in list:\n",
    "        if f(a): yield a\n",
    "filter = curry(Filter)\n",
    "\n",
    "def Map(f, list):\n",
    "    for a in list:\n",
    "        yield f(a)\n",
    "map = curry(Map)\n",
    "\n",
    "def Take(length, list):\n",
    "    res = []\n",
    "    for a in list:\n",
    "        res.append(a)\n",
    "        if len(res) == length: return res\n",
    "take = curry(Take)\n",
    "\n",
    "def Reduce(f, acc, list):\n",
    "    argspec = inspect.getfullargspec(Reduce)\n",
    "    if len(argspec.args) == 2:\n",
    "        list = acc\n",
    "        acc = next(list)\n",
    "    acc = (f(acc, a) for a in list)\n",
    "    return acc\n",
    "reduce = curry(Reduce)\n",
    "\n",
    "add = curry(lambda a, b: a + b)\n",
    "\n",
    "go = lambda a, *args: reduce(lambda a, f: f(a), a, args)\n",
    "# go = lambda *args: reduce(lambda a, f: f(a), args)\n",
    "\n",
    "\n",
    "f1 = lambda list, length: Reduce(add, 0,\n",
    "        Take(\n",
    "            length, \n",
    "                Map(lambda a: a * a, \n",
    "                    Filter(lambda a: a % 2, list))))\n",
    "\n",
    "f2 = lambda list, length: go(\n",
    "    list,\n",
    "    lambda list: Filter(lambda a: a % 2, list),\n",
    "    lambda list: Map(lambda a: a * a, list),\n",
    "    lambda list: Take(length, list),\n",
    "    lambda list: Reduce(add, 0, list)\n",
    ")\n",
    "\n",
    "# f2 = lambda list, length: go(\n",
    "#     list,\n",
    "#     Filter(lambda a: a % 2),\n",
    "#     Map(lambda a: a * a),\n",
    "#     Take(length),\n",
    "#     Reduce(add, 0)\n",
    "# )"
   ]
  },
  {
   "cell_type": "code",
   "execution_count": 49,
   "metadata": {},
   "outputs": [],
   "source": [
    "a= go(\n",
    "    list,\n",
    "    lambda list: Filter(lambda a: a % 2, list),\n",
    "    lambda list: Map(lambda a: a * a, list),\n",
    "    lambda list: Take(length, list),\n",
    "    lambda list: Reduce(add, 0, list)\n",
    ")"
   ]
  },
  {
   "cell_type": "code",
   "execution_count": 50,
   "metadata": {},
   "outputs": [
    {
     "output_type": "stream",
     "name": "stdout",
     "text": [
      "<generator object Reduce.<locals>.<genexpr> at 0x000001C4BC7D1660>\n<generator object Reduce.<locals>.<genexpr> at 0x000001C4BC7D1430>\n<generator object Reduce.<locals>.<genexpr> at 0x000001C4BC7D1120>\n<function <lambda>.<locals>.<lambda>.<locals>.<lambda> at 0x000001C4BC7B8160>\n<function <lambda>.<locals>.<lambda>.<locals>.<lambda> at 0x000001C4BC7B8280>\n<function <lambda>.<locals>.<lambda>.<locals>.<lambda> at 0x000001C4BC7B83A0>\n"
     ]
    },
    {
     "output_type": "execute_result",
     "data": {
      "text/plain": [
       "<generator object Reduce.<locals>.<genexpr> at 0x000001C4BC7D1190>"
      ]
     },
     "metadata": {},
     "execution_count": 50
    }
   ],
   "source": [
    "print(f1([1,2,3,4,5], 1))\n",
    "print(f1([1,2,3,4,5], 2))\n",
    "print(f1([1,2,3,4,5], 3))\n",
    "\n",
    "\n",
    "print(f2([1,2,3,4,5], 1))\n",
    "print(f2([1,2,3,4,5], 2))\n",
    "print(f2([1,2,3,4,5], 3))\n",
    "\n",
    "Reduce(add,0,[1,2,3,4,5])"
   ]
  },
  {
   "cell_type": "code",
   "execution_count": 19,
   "metadata": {},
   "outputs": [
    {
     "output_type": "execute_result",
     "data": {
      "text/plain": [
       "<function __main__.<lambda>.<locals>.<lambda>.<locals>.<lambda>(*args)>"
      ]
     },
     "metadata": {},
     "execution_count": 19
    }
   ],
   "source": [
    "add(10)"
   ]
  },
  {
   "cell_type": "code",
   "execution_count": 20,
   "metadata": {},
   "outputs": [
    {
     "output_type": "execute_result",
     "data": {
      "text/plain": [
       "12"
      ]
     },
     "metadata": {},
     "execution_count": 20
    }
   ],
   "source": [
    "add(7)(5)"
   ]
  },
  {
   "cell_type": "code",
   "execution_count": 21,
   "metadata": {},
   "outputs": [
    {
     "output_type": "stream",
     "name": "stdout",
     "text": [
      "4\n"
     ]
    }
   ],
   "source": [
    "import random\n",
    "\n",
    "class Dice(object):\n",
    "    def __init__(self, start, end):\n",
    "        self._start = start\n",
    "        self._end = end\n",
    "        \n",
    "    def __call__(self):\n",
    "        return random.randint(self._start, self._end)\n",
    "    \n",
    "dice = Dice(1, 6)\n",
    "print (dice())"
   ]
  },
  {
   "cell_type": "code",
   "execution_count": null,
   "metadata": {},
   "outputs": [],
   "source": []
  }
 ]
}