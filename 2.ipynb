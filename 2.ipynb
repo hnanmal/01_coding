{
 "metadata": {
  "language_info": {
   "codemirror_mode": {
    "name": "ipython",
    "version": 3
   },
   "file_extension": ".py",
   "mimetype": "text/x-python",
   "name": "python",
   "nbconvert_exporter": "python",
   "pygments_lexer": "ipython3",
   "version": "3.9.2"
  },
  "orig_nbformat": 2,
  "kernelspec": {
   "name": "python392jvsc74a57bd050372e81e94e25530d76c09f098bf018f91a5c3734c4fb4b3566a9e0a76204da",
   "display_name": "Python 3.9.2 64-bit"
  },
  "metadata": {
   "interpreter": {
    "hash": "50372e81e94e25530d76c09f098bf018f91a5c3734c4fb4b3566a9e0a76204da"
   }
  }
 },
 "nbformat": 4,
 "nbformat_minor": 2,
 "cells": [
  {
   "cell_type": "code",
   "execution_count": 34,
   "metadata": {},
   "outputs": [],
   "source": [
    "# # 리스트에서 홀수를 length 만큼 뽑아서 제곱한 후 모두 더하기\n",
    "# ## 일반적 스타일\n",
    "\n",
    "# def f(list, length):\n",
    "#     i = 0\n",
    "#     acc = 0\n",
    "#     for a in list:\n",
    "#         if a % 2:\n",
    "#             acc =  acc + a * a\n",
    "#             i = i + 1\n",
    "#             if i == length:\n",
    "#                 break\n",
    "#     print(acc)\n"
   ]
  },
  {
   "cell_type": "code",
   "execution_count": 35,
   "metadata": {},
   "outputs": [
    {
     "output_type": "stream",
     "name": "stdout",
     "text": [
      "1\n10\n35\n"
     ]
    }
   ],
   "source": [
    "# f([1,2,3,4,5],1)\n",
    "# f([1,2,3,4,5],2)\n",
    "# f([1,2,3,4,5],3)"
   ]
  },
  {
   "cell_type": "code",
   "execution_count": 66,
   "metadata": {},
   "outputs": [],
   "source": [
    "# def filter(f, iter):\n",
    "#     for a in iter:\n",
    "#         if f(a): yield a\n",
    "\n",
    "# def map(f, iter):\n",
    "#     for a in iter:\n",
    "#         yield f(a)\n",
    "\n",
    "# def take(length, iter):\n",
    "#     res = []\n",
    "#     for a in iter:\n",
    "#         res.append(a)\n",
    "#         if len(res) == length: return res\n",
    "\n",
    "# def reduce(f, acc, iter):\n",
    "#     for a in iter:\n",
    "#         acc = f(acc, a)\n",
    "#     return acc\n",
    "\n",
    "# add = lambda a, b: a + b\n",
    "\n",
    "# def f(iter, length):\n",
    "#     return reduce(\n",
    "#         add,\n",
    "#         0,\n",
    "#         take(length, map(lambda a: a*a, filter(lambda a: a%2, iter))))"
   ]
  },
  {
   "cell_type": "code",
   "execution_count": 88,
   "metadata": {},
   "outputs": [],
   "source": [
    "# def filter(f, iter):\n",
    "#     for a in iter:\n",
    "#         if f(a): yield a\n",
    "\n",
    "# def map(f, iter):\n",
    "#     for a in iter:\n",
    "#         yield f(a)\n",
    "\n",
    "# def take(length, iter):\n",
    "#     res = []\n",
    "#     for a in iter:\n",
    "#         res.append(a)\n",
    "#         if len(res) == length: return res\n",
    "\n",
    "# def reduce(f, acc, iter):\n",
    "#     for a in iter:\n",
    "#         acc = f(acc, a)\n",
    "#     return acc\n",
    "\n",
    "# add = lambda a, b: a + b\n",
    "\n",
    "# f = lambda iter, length: reduce(add, 0,\n",
    "#         take(\n",
    "#             length, \n",
    "#                 map(lambda a: a*a, \n",
    "#                     filter(lambda a: a%2, iter))))"
   ]
  },
  {
   "cell_type": "code",
   "execution_count": 84,
   "metadata": {},
   "outputs": [],
   "source": [
    "def filter(f, list):\n",
    "    for a in list:\n",
    "        if f(a): yield a\n",
    "\n",
    "def map(f, list):\n",
    "    for a in list:\n",
    "        yield f(a)\n",
    "\n",
    "def take(length, list):\n",
    "    res = []\n",
    "    for a in list:\n",
    "        res.append(a)\n",
    "        if len(res) == length: return res\n",
    "\n",
    "def reduce(f, acc, list):\n",
    "    for a in list:\n",
    "        acc = f(acc, a)\n",
    "    return acc\n",
    "\n",
    "add = lambda a, b: a + b\n",
    "\n",
    "go = lambda a, *args: reduce(lambda a, f: f(a), a, args)\n",
    "\n",
    "\n",
    "f1 = lambda list, length: reduce(add, 0,\n",
    "        take(\n",
    "            length, \n",
    "                map(lambda a: a * a, \n",
    "                    filter(lambda a: a % 2, list))))\n",
    "\n",
    "f2 = lambda list, length: go(list,\n",
    "    lambda list: filter(lambda a: a % 2, list),\n",
    "    lambda list: map(lambda a: a * a, list),\n",
    "    lambda list: take(length, list),\n",
    "    lambda list: reduce(add, 0, list)\n",
    ")"
   ]
  },
  {
   "cell_type": "code",
   "execution_count": 85,
   "metadata": {},
   "outputs": [
    {
     "output_type": "stream",
     "name": "stdout",
     "text": [
      "1\n10\n35\n1\n10\n35\n"
     ]
    }
   ],
   "source": [
    "print(f1([1,2,3,4,5],1))\n",
    "print(f1([1,2,3,4,5],2))\n",
    "print(f1([1,2,3,4,5],3))\n",
    "\n",
    "print(f2([1,2,3,4,5],1))\n",
    "print(f2([1,2,3,4,5],2))\n",
    "print(f2([1,2,3,4,5],3))"
   ]
  },
  {
   "cell_type": "code",
   "execution_count": 115,
   "metadata": {},
   "outputs": [],
   "source": []
  },
  {
   "cell_type": "code",
   "execution_count": null,
   "metadata": {},
   "outputs": [],
   "source": []
  }
 ]
}