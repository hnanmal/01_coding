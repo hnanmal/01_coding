{
 "metadata": {
  "language_info": {
   "codemirror_mode": {
    "name": "ipython",
    "version": 3
   },
   "file_extension": ".py",
   "mimetype": "text/x-python",
   "name": "python",
   "nbconvert_exporter": "python",
   "pygments_lexer": "ipython3",
   "version": "3.9.2"
  },
  "orig_nbformat": 2,
  "kernelspec": {
   "name": "python392jvsc74a57bd050372e81e94e25530d76c09f098bf018f91a5c3734c4fb4b3566a9e0a76204da",
   "display_name": "Python 3.9.2 64-bit"
  },
  "metadata": {
   "interpreter": {
    "hash": "50372e81e94e25530d76c09f098bf018f91a5c3734c4fb4b3566a9e0a76204da"
   }
  }
 },
 "nbformat": 4,
 "nbformat_minor": 2,
 "cells": [
  {
   "cell_type": "code",
   "execution_count": 5,
   "metadata": {},
   "outputs": [
    {
     "output_type": "execute_result",
     "data": {
      "text/plain": [
       "21"
      ]
     },
     "metadata": {},
     "execution_count": 5
    }
   ],
   "source": [
    "def reduce(f, acc, list):\n",
    "    for a in list:\n",
    "        acc = f(acc, a)\n",
    "    return acc\n",
    "\n",
    "go = lambda a, *args: reduce(lambda a, f: f(a), a, args)\n",
    "\n",
    "go(10, lambda a: a + 10, lambda a: a + 1)"
   ]
  },
  {
   "cell_type": "code",
   "execution_count": null,
   "metadata": {},
   "outputs": [],
   "source": []
  }
 ]
}